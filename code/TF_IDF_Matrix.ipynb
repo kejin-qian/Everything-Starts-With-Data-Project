{
 "cells": [
  {
   "cell_type": "code",
   "execution_count": null,
   "metadata": {},
   "outputs": [],
   "source": [
    "import os\n",
    "os.getcwd()\n",
    "import pandas as pd\n",
    "import numpy as np"
   ]
  },
  {
   "cell_type": "code",
   "execution_count": null,
   "metadata": {},
   "outputs": [],
   "source": [
    "master=pd.read_csv(\"Master.csv\",encoding='latin')\n",
    "tags=pd.read_csv(\"Tags.csv\")\n",
    "roles=pd.read_csv(\"Roles_v2.csv\")\n",
    "tags=tags[['job_id','tag']]"
   ]
  },
  {
   "cell_type": "code",
   "execution_count": null,
   "metadata": {},
   "outputs": [],
   "source": [
    "master_jobid=master.loc[master['job_id'].isin(tags['job_id']),][['job_id']]\n",
    "master_jobid=pd.merge(master_jobid,roles,on='job_id',how='left')\n",
    "master_jobid=pd.merge(master_jobid,tags,on='job_id',how='left')\n",
    "master_jobid.dropna(inplace=True)\n",
    "\n",
    "master_transpose=pd.pivot_table(data=master_jobid,index=['job_id','role'],columns='tag',aggfunc={'role':len})\n",
    "master_transpose.fillna(0,inplace=True)\n",
    "master_transpose.columns=master_transpose.columns.droplevel()\n",
    "\n",
    "master_summ=pd.DataFrame({'Count':master_transpose.sum(axis=1)})\n",
    "master_transpose.reset_index(inplace=True)\n",
    "master_transpose=master_transpose.loc[master_transpose['role']==\"Nursing Assistant\"]\n",
    "\n",
    "Tag_count=master_transpose.drop(labels=['job_id','role'],axis=1).sum(axis=0)\n",
    "Tag_count=Tag_count.to_frame()\n",
    "Tag_count.reset_index(inplace=True)\n",
    "Tag_count.columns=['tag','Count']\n",
    "Tag_count.sort_values('Count',ascending=False,inplace=True)\n",
    "\n",
    "Tag_count['Cum_sum']=Tag_count.cumsum(axis=0)['Count']\n",
    "Tag_count['Cum_per']=100*Tag_count['Cum_sum']/sum(Tag_count['Count'])\n",
    "Tag_80=Tag_count[Tag_count['Cum_per']<=80]\n",
    "\n",
    "tag_80=Tag_count[Tag_count['Cum_per']<=80]\n",
    "tag_80['Percent']=tag_80['Count']/sum(tag_80['Count'])\n"
   ]
  },
  {
   "cell_type": "code",
   "execution_count": null,
   "metadata": {},
   "outputs": [],
   "source": [
    "col_names=['job_id','role']+tag_80['tag'].tolist()\n",
    "subset_trans=master_transpose[col_names]\n",
    "subset_trans['Doc_sum']=subset_trans.sum(axis=1)\n",
    "subset_trans=subset_trans[subset_trans['Doc_sum']>0]\n",
    "subset_trans['Doc_sum']=subset_trans.sum(axis=1)\n",
    "subset_trans=subset_trans[subset_trans['Doc_sum']>0]\n",
    "\n",
    "new_df=tag_80[['tag','Percent']].set_index('tag')\n",
    "new_df.to_dict()\n"
   ]
  },
  {
   "cell_type": "code",
   "execution_count": null,
   "metadata": {},
   "outputs": [],
   "source": [
    "def tf_idf2(df):\n",
    "    for i in tag_80['tag'].tolist():\n",
    "        col_name=i+'tf_idf'\n",
    "        tf=df[i]/df['Doc_sum']\n",
    "        idf=np.log10(1/(new_df['Percent'][i]))\n",
    "        df[col_name]=tf*idf\n",
    "    return df"
   ]
  },
  {
   "cell_type": "code",
   "execution_count": null,
   "metadata": {},
   "outputs": [],
   "source": [
    "tf_matrix=tf_idf2(subset_trans)\n",
    "tf_matrix.to_csv(\"NA_Tfidf.csv\")"
   ]
  }
 ],
 "metadata": {
  "kernelspec": {
   "display_name": "Python 3",
   "language": "python",
   "name": "python3"
  },
  "language_info": {
   "codemirror_mode": {
    "name": "ipython",
    "version": 3
   },
   "file_extension": ".py",
   "mimetype": "text/x-python",
   "name": "python",
   "nbconvert_exporter": "python",
   "pygments_lexer": "ipython3",
   "version": "3.6.6"
  }
 },
 "nbformat": 4,
 "nbformat_minor": 2
}
